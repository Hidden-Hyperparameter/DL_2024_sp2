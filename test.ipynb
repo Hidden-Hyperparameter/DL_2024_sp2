{
 "cells": [
  {
   "cell_type": "markdown",
   "metadata": {},
   "source": [
    "# Test"
   ]
  },
  {
   "cell_type": "markdown",
   "metadata": {},
   "source": [
    "Before running, organize the directory as follows:\n",
    "```\n",
    "./\n",
    "|\n",
    "|\n",
    "-- cifar10-128\n",
    "    |\n",
    "    |\n",
    "    -- test\n",
    "        |\n",
    "        |\n",
    "        --class 0\n",
    "        --class 1\n",
    "        --...\n",
    "-- cifar10_4x_best.pth\n",
    "-- model.py\n",
    "-- test.ipynb\n",
    "```"
   ]
  },
  {
   "cell_type": "code",
   "execution_count": 3,
   "metadata": {},
   "outputs": [
    {
     "name": "stderr",
     "output_type": "stream",
     "text": [
      "/home/zhh/anaconda3/envs/DYY/lib/python3.11/site-packages/tqdm/auto.py:21: TqdmWarning: IProgress not found. Please update jupyter and ipywidgets. See https://ipywidgets.readthedocs.io/en/stable/user_install.html\n",
      "  from .autonotebook import tqdm as notebook_tqdm\n"
     ]
    }
   ],
   "source": [
    "import torch\n",
    "import torchvision\n",
    "# torch.backends.cudnn.enabled = False\n",
    "import os"
   ]
  },
  {
   "cell_type": "code",
   "execution_count": 4,
   "metadata": {},
   "outputs": [],
   "source": [
    "device = 'cuda' if torch.cuda.is_available() else 'XU WEI'"
   ]
  },
  {
   "cell_type": "code",
   "execution_count": 5,
   "metadata": {},
   "outputs": [],
   "source": [
    "def test(classIndex,name='test',model_name = './models/cifar10_4x_best.pth'):\n",
    "    model = torch.load(model_name)\n",
    "    p = os.path.join('cifar10-128',name,f'class{classIndex}')\n",
    "    _,_,filename=list(os.walk(p))[0]\n",
    "    from PIL import Image\n",
    "    import numpy as np\n",
    "    NORMALIZES = ([125 / 255, 124 / 255, 115 / 255], [60 / 255, 59 / 255, 64 / 255])\n",
    "    tensors = []\n",
    "    for file in filename:\n",
    "        img=Image.open(os.path.join(p,file))\n",
    "        img_rgb = img.convert('RGB')\n",
    "        tensor  =torch.from_numpy(np.array(img_rgb).transpose((2,0,1))/255)\n",
    "        for i in range(3):\n",
    "            tensor[i]=(tensor[i]-NORMALIZES[0][i])/NORMALIZES[1][i]\n",
    "        tensors.append(tensor.reshape(1,3,128,128))\n",
    "    bsize = 100\n",
    "    batches = []\n",
    "    i = 0\n",
    "    while True:\n",
    "        try:\n",
    "            final_tensor = torch.cat(tuple(tensors[i*bsize:i*bsize+bsize]),dim=0)\n",
    "            batches.append(final_tensor)\n",
    "        except RuntimeError:\n",
    "            break\n",
    "        i+=1\n",
    "    assert len(batches)>=10, 'Dataset has some problems'\n",
    "    assert batches[0].shape==torch.Size([100,3,128,128]), 'Invalid figures'\n",
    "    accs = 0\n",
    "    for batch in batches:\n",
    "        _, predicted = torch.max(model(batch.to(device)), 1)\n",
    "        leng = len(batch)\n",
    "        acc = (predicted==(classIndex*torch.ones(leng)).to(device)).sum().item()/leng\n",
    "        accs += acc\n",
    "    accs /= 10\n",
    "    return accs"
   ]
  },
  {
   "cell_type": "code",
   "execution_count": 7,
   "metadata": {},
   "outputs": [
    {
     "name": "stdout",
     "output_type": "stream",
     "text": [
      "The accuracy of model is 89.5 %\n"
     ]
    }
   ],
   "source": [
    "tot_acc = 0\n",
    "for index in range(10):\n",
    "    tot_acc+= test(index,model_name='cifar10_4x_best.pth')\n",
    "print('The accuracy of model is',tot_acc*10,'%')"
   ]
  },
  {
   "cell_type": "code",
   "execution_count": null,
   "metadata": {},
   "outputs": [],
   "source": []
  }
 ],
 "metadata": {
  "kernelspec": {
   "display_name": "DYY",
   "language": "python",
   "name": "python3"
  },
  "language_info": {
   "codemirror_mode": {
    "name": "ipython",
    "version": 3
   },
   "file_extension": ".py",
   "mimetype": "text/x-python",
   "name": "python",
   "nbconvert_exporter": "python",
   "pygments_lexer": "ipython3",
   "version": "3.11.0"
  }
 },
 "nbformat": 4,
 "nbformat_minor": 2
}
