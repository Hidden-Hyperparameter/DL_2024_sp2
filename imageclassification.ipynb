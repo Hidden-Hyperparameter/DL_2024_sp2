{
 "cells": [
  {
   "cell_type": "markdown",
   "id": "f2dc0c4a",
   "metadata": {
    "deletable": false,
    "editable": false,
    "nbgrader": {
     "cell_type": "markdown",
     "checksum": "91a04155783901da96bbe67b7a5e64bd",
     "grade": false,
     "grade_id": "cell-a336e6ffe0bd52b7",
     "locked": true,
     "schema_version": 3,
     "solution": false,
     "task": false
    }
   },
   "source": [
    "## Deep Learning Coding Project 2: Image Classification\n",
    "\n",
    "Before we start, please put your **Chinese** name and student ID in following format:\n",
    "\n",
    "Name, 0000000000 // e.g.) 傅炜, 2021123123"
   ]
  },
  {
   "cell_type": "markdown",
   "id": "8a648ddc",
   "metadata": {
    "deletable": false,
    "nbgrader": {
     "cell_type": "markdown",
     "checksum": "933b227c504b89bf0c43186e8d0e39a1",
     "grade": true,
     "grade_id": "cell-13ce984a5d4a067a",
     "locked": false,
     "points": 0,
     "schema_version": 3,
     "solution": true,
     "task": false
    }
   },
   "source": [
    "赵瀚宏, 2023040163"
   ]
  },
  {
   "cell_type": "markdown",
   "id": "7468705d",
   "metadata": {
    "deletable": false,
    "editable": false,
    "nbgrader": {
     "cell_type": "markdown",
     "checksum": "cdd86b19ae7e03e9618718ef3c6ea9a0",
     "grade": false,
     "grade_id": "cell-a68075035123f58c",
     "locked": true,
     "schema_version": 3,
     "solution": false,
     "task": false
    }
   },
   "source": [
    "## Introduction\n",
    "\n",
    "We will use Python 3, [NumPy](https://numpy.org/), and [PyTorch](https://pytorch.org/) for this coding project. The example code has been tested under the latest stable release version.\n",
    "\n",
    "### Task\n",
    "\n",
    "In this notebook, you need to train a model to classify images. Given an image, you need to distinguish its category,\n",
    "e.g., whether it is a horse or an automobile. There are total 10 classes:\n",
    "airplane, automobile, bird, cat, deer, dog, frog, horse, ship and truck. We\n",
    "release 40,000 images for training, 10,000 images for validation. Each image has\n",
    "a shape of (3, 128, 128). We will evaluate your model in 10,000 images on the test set.\n",
    "\n",
    "Download the dataset from [here](https://cloud.tsinghua.edu.cn/d/00e0704738e04d32978b/) and organize them into a folder named \"cifar_10_4x\".\n",
    "\n",
    "<!-- Images can be classified as \"No Finding\" or **one or more types**. In the basic task, given an image, you only need to tell whether the X-ray indicates \"Infiltration\". In the bonus task, you need to tell whether *each* of the diseases exists.\n",
    "\n",
    "Images are taken from the [ChestX-ray14 dataset](https://www.kaggle.com/nih-chest-xrays/data) and downsampled to (256, 256). We release 44872 gray scale images for training and validation. We will evaluate your model on 10285 images in the test set. The dataset is available [here](https://cloud.tsinghua.edu.cn/d/16d06a89c5b4459db703/) and organized as follows: `train` directory includes all images for training and validation, and each line of `train.txt` records the labels separated by \"|\". -->\n",
    "\n",
    "### Coding\n",
    "\n",
    "We provide a code template. You can add new cells and modify our example to train your own model. To run this code, you should:\n",
    "\n",
    "+ implement your model (named `Net`) in `model.py`.\n",
    "+ implement your training loop in this notebook\n",
    "\n",
    "Your final submitted model should not be larger than **20M**. **Using any pretrained model is NOT permitted**.\n",
    "Besides, before you submit your result, **make sure you can test your model using our evaluation cell.** Name your best model \"cifar10_4x_best.pth\".\n",
    "\n",
    "### Report & Submission\n",
    "\n",
    "Your report should include:\n",
    "\n",
    "1. the details of your model\n",
    "2. all the hyper-parameters\n",
    "3. all the tricks or training techniques you use\n",
    "4. the training curve of your submitted model.\n",
    "\n",
    "Reporting additional ablation studies and how you improve your model are also encouraged.\n",
    "\n",
    "You should submit:\n",
    "\n",
    "+ all codes\n",
    "+ the model checkpoint (only \"cifar10_4x_best.pth\")\n",
    "+ your report (a separate \"pdf\")\n",
    "\n",
    "to web learning. We will use the evaluation code in this notebook to evaluate your model on the test set.\n",
    "\n",
    "### Grading\n",
    "\n",
    "We will grade this coding project based on the performance of your model (70%) and your report (30%). Regarding the evaluation metric of your model, assume your test accuracy is $X$, then your score is\n",
    "\n",
    "$\\frac{min(X,H)−0.6}{H−0.6}×7$\n",
    "\n",
    "where $H$ is accuracy of the model trained by TAs and $H=0.9$, i.e., you will get the full score if your test accuracy is above 90%.\n",
    "\n",
    "**Bonus**: The best submission with the highest testing accuracy will get 1 bonus point for the final course grade.\n",
    "\n",
    "**Avoid plagiarism! Any student who violates academic integrity will be seriously dealt with and receive an F for the course.**"
   ]
  },
  {
   "cell_type": "markdown",
   "id": "31f6d8c7",
   "metadata": {
    "deletable": false,
    "editable": false,
    "nbgrader": {
     "cell_type": "markdown",
     "checksum": "1ec5655a0d789db88709122c2a0ce6c9",
     "grade": false,
     "grade_id": "cell-4cee29f989d84cdc",
     "locked": true,
     "schema_version": 3,
     "solution": false,
     "task": false
    }
   },
   "source": [
    "## Code Template\n",
    "\n",
    "We have masked the the training loop in this notebook for you to complete. You should also overwrite \"model.py\" and implement your own model."
   ]
  },
  {
   "cell_type": "code",
   "execution_count": 1,
   "id": "d8c2354b",
   "metadata": {
    "deletable": false,
    "editable": false,
    "nbgrader": {
     "cell_type": "code",
     "checksum": "b34bc8b23f9c8e480a9671ef3453e7ac",
     "grade": false,
     "grade_id": "cell-a551fcc5ff27fb87",
     "locked": true,
     "schema_version": 3,
     "solution": false,
     "task": false
    }
   },
   "outputs": [],
   "source": [
    "%load_ext autoreload\n",
    "%autoreload 2"
   ]
  },
  {
   "cell_type": "markdown",
   "id": "62b4fcaa",
   "metadata": {
    "deletable": false,
    "editable": false,
    "nbgrader": {
     "cell_type": "markdown",
     "checksum": "4367d7a728b91da35685f558363c4d66",
     "grade": false,
     "grade_id": "cell-ce69007d45b9103b",
     "locked": true,
     "schema_version": 3,
     "solution": false,
     "task": false
    }
   },
   "source": [
    "### Setup Code\n",
    "\n",
    "If you use Colab in this coding project, please uncomment the code, fill the `GOOGLE_DRIVE_PATH_AFTER_MYDRIVE` and run the following cells to mount your Google drive. Then, the notebook can find the required file. If you run the notebook locally, you can skip the following cells."
   ]
  },
  {
   "cell_type": "code",
   "execution_count": 2,
   "id": "785a7720",
   "metadata": {},
   "outputs": [],
   "source": [
    "# from google.colab import drive\n",
    "# drive.mount('/content/drive')"
   ]
  },
  {
   "cell_type": "code",
   "execution_count": 3,
   "id": "ca391e22",
   "metadata": {},
   "outputs": [],
   "source": [
    "# import os\n",
    "\n",
    "# # TODO: Fill in the Google Drive path where you uploaded the assignment\n",
    "# # Example: If you create a 2022SP folder and put all the files under CP1 folder, then '2022SP/CP1'\n",
    "# # GOOGLE_DRIVE_PATH_AFTER_MYDRIVE = '2022SP/CP1'\n",
    "# GOOGLE_DRIVE_PATH_AFTER_MYDRIVE = None \n",
    "# GOOGLE_DRIVE_PATH = os.path.join('drive', 'MyDrive', GOOGLE_DRIVE_PATH_AFTER_MYDRIVE)\n",
    "# print(os.listdir(GOOGLE_DRIVE_PATH))"
   ]
  },
  {
   "cell_type": "code",
   "execution_count": 4,
   "id": "c62c2445",
   "metadata": {},
   "outputs": [],
   "source": [
    "# import sys\n",
    "# sys.path.append(GOOGLE_DRIVE_PATH)"
   ]
  },
  {
   "cell_type": "code",
   "execution_count": 5,
   "id": "2a227e03",
   "metadata": {
    "deletable": false,
    "editable": false,
    "nbgrader": {
     "cell_type": "code",
     "checksum": "8b7e3bc021f202881dd19297b1144711",
     "grade": false,
     "grade_id": "cell-e11eaf041d72deda",
     "locked": true,
     "schema_version": 3,
     "solution": false,
     "task": false
    }
   },
   "outputs": [],
   "source": [
    "from dataset import CIFAR10_4x\n",
    "from evaluation import evaluation\n",
    "\n",
    "from model import Net  # this should be implemented by yourself"
   ]
  },
  {
   "cell_type": "markdown",
   "id": "01370c88",
   "metadata": {},
   "source": [
    "### Enjoy Your Coding Time!"
   ]
  },
  {
   "cell_type": "code",
   "execution_count": 6,
   "id": "8ca3c36d",
   "metadata": {},
   "outputs": [],
   "source": [
    "import math\n",
    "import os\n",
    "import random\n",
    "import matplotlib.pyplot as plt\n",
    "import numpy as np\n",
    "import torch\n",
    "import torch.nn as nn\n",
    "import torch.nn.functional as F\n",
    "\n",
    "from torchvision import transforms\n",
    "from PIL import Image\n",
    "\n",
    "\n",
    "def set_seed(seed):\n",
    "    seed = int(seed)\n",
    "    if seed < 0 or seed > (2**32 - 1):\n",
    "        raise ValueError(\"Seed must be between 0 and 2**32 - 1\")\n",
    "    else:\n",
    "        random.seed(seed)\n",
    "        np.random.seed(seed)\n",
    "        torch.manual_seed(seed)\n",
    "        torch.cuda.manual_seed(seed)\n",
    "        torch.backends.cudnn.deterministic = True\n",
    "\n",
    "\n",
    "device = 'cuda' if torch.cuda.is_available() else 'cpu'\n",
    "set_seed(16)"
   ]
  },
  {
   "cell_type": "code",
   "execution_count": 7,
   "id": "ed366135",
   "metadata": {},
   "outputs": [],
   "source": [
    "data_root_dir = '.'\n",
    "\n",
    "transform = transforms.Compose([\n",
    "    transforms.ToTensor(),\n",
    "    transforms.Normalize([125 / 255, 124 / 255, 115 / 255],\n",
    "                         [60 / 255, 59 / 255, 64 / 255])\n",
    "])\n"
   ]
  },
  {
   "cell_type": "code",
   "execution_count": 8,
   "id": "228d0018",
   "metadata": {},
   "outputs": [],
   "source": [
    "\n",
    "NUMOFWORKERS = 2\n",
    "trainset = CIFAR10_4x(root=data_root_dir,\n",
    "                      split=\"train\", transform=transform)\n",
    "trainloader = torch.utils.data.DataLoader(\n",
    "    trainset, batch_size=32, shuffle=True, num_workers=NUMOFWORKERS, pin_memory=True)\n",
    "\n",
    "validset = CIFAR10_4x(root=data_root_dir,\n",
    "                      split='valid', transform=transform)\n",
    "validloader = torch.utils.data.DataLoader(\n",
    "    validset, batch_size=32, shuffle=False, num_workers=NUMOFWORKERS)\n"
   ]
  },
  {
   "cell_type": "code",
   "execution_count": 29,
   "id": "bc63d0c6",
   "metadata": {},
   "outputs": [
    {
     "name": "stdout",
     "output_type": "stream",
     "text": [
      "number of trained parameters: 5071434\n",
      "number of total parameters: 5071434\n"
     ]
    }
   ],
   "source": [
    "####################################\n",
    "#                                  #\n",
    "#                                  #\n",
    "#                                  #\n",
    "#                                  #\n",
    "#        RUN THIS FOR NEW MODEL    #\n",
    "#                                  #\n",
    "#                                  #\n",
    "#                                  #\n",
    "#                                  #\n",
    "####################################\n",
    "net = Net()\n",
    "print(\"number of trained parameters: %d\" % (\n",
    "    sum([param.nelement() for param in net.parameters() if param.requires_grad])))\n",
    "print(\"number of total parameters: %d\" %\n",
    "      (sum([param.nelement() for param in net.parameters()])))\n",
    "\n",
    "criterion = nn.CrossEntropyLoss()\n",
    "train_history = []\n",
    "optimizer = torch.optim.Adam(net.parameters(), lr=1e-3)\n",
    "\n",
    "net.to(device)"
   ]
  },
  {
   "cell_type": "code",
   "execution_count": 31,
   "id": "c9e88bf8",
   "metadata": {},
   "outputs": [
    {
     "name": "stdout",
     "output_type": "stream",
     "text": [
      "20M\t./cifar10_4x_0.pth\n"
     ]
    },
    {
     "data": {
      "text/plain": [
       "0"
      ]
     },
     "execution_count": 31,
     "metadata": {},
     "output_type": "execute_result"
    }
   ],
   "source": [
    "# NO EXECUTION\n",
    "model_dir = '.'\n",
    "if not os.path.exists(model_dir):\n",
    "    os.makedirs(model_dir)\n",
    "torch.save(net, os.path.join(model_dir, 'cifar10_4x_0.pth'))\n",
    "\n",
    "# check the model size\n",
    "os.system(' '.join(['du', '-h', os.path.join(model_dir, 'cifar10_4x_0.pth')]))"
   ]
  },
  {
   "cell_type": "code",
   "execution_count": 32,
   "id": "45e11f0a",
   "metadata": {
    "deletable": false,
    "nbgrader": {
     "cell_type": "code",
     "checksum": "b9c6c195145fd44d054849497f0be5e3",
     "grade": false,
     "grade_id": "cell-2ea063d5855124d3",
     "locked": false,
     "schema_version": 3,
     "solution": true,
     "task": false
    }
   },
   "outputs": [],
   "source": [
    "def train(epochs:int):\n",
    "    ##############################################################################\n",
    "    #                  TODO: You need to complete the code here                  #\n",
    "    ##############################################################################\n",
    "    # YOUR CODE HERE\n",
    "    # print(optimizer.param_groups[0])\n",
    "    results = []\n",
    "    from tqdm import tqdm\n",
    "    from evaluation import evaluation\n",
    "    for epoch in range(epochs):\n",
    "        net.train()\n",
    "        with tqdm(trainloader) as bar:\n",
    "            nums = trues = 0\n",
    "            for i,(xb,yb) in enumerate(bar):\n",
    "                xb,yb = xb.to(device),yb.to(device)\n",
    "                optimizer.zero_grad()\n",
    "                preds = net(xb)\n",
    "                with torch.no_grad():\n",
    "                    _, answer = torch.max(preds, 1)\n",
    "                    trues += (answer==yb).sum().item()\n",
    "                    nums += len(yb)\n",
    "                loss = criterion(preds,yb)\n",
    "                loss.backward()\n",
    "                optimizer.step()\n",
    "                if(i%100==0):\n",
    "                    bar.set_description(f'Epoch {epoch}/{epochs}, accuracy {100*trues/nums}')\n",
    "        # with tqdm(validloader) as bar:\n",
    "        #     with torch.no_grad():\n",
    "        #         for i,(xb,yb) in enumerate(bar):\n",
    "        #             xb,yb = xb.to(device),yb.to(device)\n",
    "        #             preds = net(xb)\n",
    "        #             loss += criterion(preds,yb)\n",
    "        # print(f'Epoch {epoch}/{epochs}, valid loss {loss}')\n",
    "        train_acc = 100*trues/nums\n",
    "        print(f'train accuracy: {train_acc}%')\n",
    "        net.eval()\n",
    "        valid_acc =evaluation(net,validloader,device)\n",
    "        print(f'valid accuracy: {valid_acc}%')\n",
    "        results.append({'train accuracy':train_acc,'valid accuracy':valid_acc})\n",
    "        train_history.append({\n",
    "        'optimizer':{k:v for k,v in optimizer.param_groups[0].items() if k!='params'},\n",
    "        'epochs':'no.'+str(len(results)),\n",
    "        'results':results\n",
    "    })\n",
    "    # raise NotImplementedError()\n",
    "    ##############################################################################\n",
    "    #                              END OF YOUR CODE                              #\n",
    "    ##############################################################################"
   ]
  },
  {
   "cell_type": "code",
   "execution_count": 33,
   "metadata": {},
   "outputs": [],
   "source": [
    "torch.backends.cudnn.enabled = True"
   ]
  },
  {
   "cell_type": "code",
   "execution_count": 39,
   "id": "17a7f665",
   "metadata": {},
   "outputs": [
    {
     "name": "stderr",
     "output_type": "stream",
     "text": [
      "  0%|          | 0/1250 [00:00<?, ?it/s]"
     ]
    },
    {
     "name": "stderr",
     "output_type": "stream",
     "text": [
      "Epoch 0/10, accuracy 86.65695253955037: 100%|██████████| 1250/1250 [00:15<00:00, 78.60it/s]"
     ]
    },
    {
     "name": "stdout",
     "output_type": "stream",
     "text": [
      "train accuracy: 86.6575%\n"
     ]
    },
    {
     "name": "stderr",
     "output_type": "stream",
     "text": [
      "\n"
     ]
    },
    {
     "name": "stdout",
     "output_type": "stream",
     "text": [
      "Accuracy of the network on the valid images: 81 %\n",
      "valid accuracy: 81.22%\n"
     ]
    },
    {
     "name": "stderr",
     "output_type": "stream",
     "text": [
      "Epoch 1/10, accuracy 87.96315570358036: 100%|██████████| 1250/1250 [00:15<00:00, 79.85it/s]"
     ]
    },
    {
     "name": "stdout",
     "output_type": "stream",
     "text": [
      "train accuracy: 87.96%\n"
     ]
    },
    {
     "name": "stderr",
     "output_type": "stream",
     "text": [
      "\n"
     ]
    },
    {
     "name": "stdout",
     "output_type": "stream",
     "text": [
      "Accuracy of the network on the valid images: 80 %\n",
      "valid accuracy: 80.8%\n"
     ]
    },
    {
     "name": "stderr",
     "output_type": "stream",
     "text": [
      "Epoch 2/10, accuracy 88.56161532056619: 100%|██████████| 1250/1250 [00:16<00:00, 76.29it/s]"
     ]
    },
    {
     "name": "stdout",
     "output_type": "stream",
     "text": [
      "train accuracy: 88.425%\n"
     ]
    },
    {
     "name": "stderr",
     "output_type": "stream",
     "text": [
      "\n"
     ]
    },
    {
     "name": "stdout",
     "output_type": "stream",
     "text": [
      "Accuracy of the network on the valid images: 78 %\n",
      "valid accuracy: 78.67%\n"
     ]
    },
    {
     "name": "stderr",
     "output_type": "stream",
     "text": [
      "Epoch 3/10, accuracy 89.43328476269775: 100%|██████████| 1250/1250 [00:16<00:00, 75.09it/s]"
     ]
    },
    {
     "name": "stdout",
     "output_type": "stream",
     "text": [
      "train accuracy: 89.445%\n"
     ]
    },
    {
     "name": "stderr",
     "output_type": "stream",
     "text": [
      "\n"
     ]
    },
    {
     "name": "stdout",
     "output_type": "stream",
     "text": [
      "Accuracy of the network on the valid images: 80 %\n",
      "valid accuracy: 80.21%\n"
     ]
    },
    {
     "name": "stderr",
     "output_type": "stream",
     "text": [
      "Epoch 4/10, accuracy 90.12281432139883: 100%|██████████| 1250/1250 [00:16<00:00, 76.38it/s]"
     ]
    },
    {
     "name": "stdout",
     "output_type": "stream",
     "text": [
      "train accuracy: 90.04%\n"
     ]
    },
    {
     "name": "stderr",
     "output_type": "stream",
     "text": [
      "\n"
     ]
    },
    {
     "name": "stdout",
     "output_type": "stream",
     "text": [
      "Accuracy of the network on the valid images: 79 %\n",
      "valid accuracy: 79.75%\n"
     ]
    },
    {
     "name": "stderr",
     "output_type": "stream",
     "text": [
      "Epoch 5/10, accuracy 90.8357618651124: 100%|██████████| 1250/1250 [00:16<00:00, 76.75it/s] "
     ]
    },
    {
     "name": "stdout",
     "output_type": "stream",
     "text": [
      "train accuracy: 90.76%\n"
     ]
    },
    {
     "name": "stderr",
     "output_type": "stream",
     "text": [
      "\n"
     ]
    },
    {
     "name": "stdout",
     "output_type": "stream",
     "text": [
      "Accuracy of the network on the valid images: 79 %\n",
      "valid accuracy: 79.49%\n"
     ]
    },
    {
     "name": "stderr",
     "output_type": "stream",
     "text": [
      "Epoch 6/10, accuracy 91.56432139883431: 100%|██████████| 1250/1250 [00:16<00:00, 76.57it/s]"
     ]
    },
    {
     "name": "stdout",
     "output_type": "stream",
     "text": [
      "train accuracy: 91.5225%\n"
     ]
    },
    {
     "name": "stderr",
     "output_type": "stream",
     "text": [
      "\n"
     ]
    },
    {
     "name": "stdout",
     "output_type": "stream",
     "text": [
      "Accuracy of the network on the valid images: 81 %\n",
      "valid accuracy: 81.18%\n"
     ]
    },
    {
     "name": "stderr",
     "output_type": "stream",
     "text": [
      "Epoch 7/10, accuracy 91.6007493755204: 100%|██████████| 1250/1250 [00:16<00:00, 77.67it/s] \n"
     ]
    },
    {
     "name": "stdout",
     "output_type": "stream",
     "text": [
      "train accuracy: 91.5825%\n",
      "Accuracy of the network on the valid images: 80 %\n",
      "valid accuracy: 80.29%\n"
     ]
    },
    {
     "name": "stderr",
     "output_type": "stream",
     "text": [
      "Epoch 8/10, accuracy 92.38134887593672: 100%|██████████| 1250/1250 [00:16<00:00, 76.41it/s]"
     ]
    },
    {
     "name": "stdout",
     "output_type": "stream",
     "text": [
      "train accuracy: 92.3425%\n"
     ]
    },
    {
     "name": "stderr",
     "output_type": "stream",
     "text": [
      "\n"
     ]
    },
    {
     "name": "stdout",
     "output_type": "stream",
     "text": [
      "Accuracy of the network on the valid images: 80 %\n",
      "valid accuracy: 80.09%\n"
     ]
    },
    {
     "name": "stderr",
     "output_type": "stream",
     "text": [
      "Epoch 9/10, accuracy 92.35532889258951: 100%|██████████| 1250/1250 [00:15<00:00, 81.21it/s] "
     ]
    },
    {
     "name": "stdout",
     "output_type": "stream",
     "text": [
      "train accuracy: 92.345%\n"
     ]
    },
    {
     "name": "stderr",
     "output_type": "stream",
     "text": [
      "\n"
     ]
    },
    {
     "name": "stdout",
     "output_type": "stream",
     "text": [
      "Accuracy of the network on the valid images: 80 %\n",
      "valid accuracy: 80.36%\n"
     ]
    }
   ],
   "source": [
    "optimizer = torch.optim.Adam(net.parameters(), lr=1e-3,weight_decay=3e-4)\n",
    "train(10)"
   ]
  },
  {
   "cell_type": "code",
   "execution_count": 35,
   "id": "ccf50ca0",
   "metadata": {},
   "outputs": [],
   "source": [
    "# state_dicts = []\n",
    "# for _ in range(10):\n",
    "#     train(10)\n",
    "#     state_dicts.append(net.state_dict())"
   ]
  },
  {
   "cell_type": "code",
   "execution_count": 22,
   "id": "330eed0e",
   "metadata": {},
   "outputs": [],
   "source": [
    "# state_dicts = []\n",
    "# for i in range(3):\n",
    "#     train(10)\n",
    "#     state_dicts.append(net.state_dict())"
   ]
  },
  {
   "cell_type": "code",
   "execution_count": 23,
   "id": "38e39ed9",
   "metadata": {},
   "outputs": [
    {
     "name": "stdout",
     "output_type": "stream",
     "text": [
      "Accuracy of the network on the valid images: 78 %\n"
     ]
    },
    {
     "data": {
      "text/plain": [
       "78.22"
      ]
     },
     "execution_count": 23,
     "metadata": {},
     "output_type": "execute_result"
    }
   ],
   "source": [
    "from evaluation import evaluation\n",
    "evaluation(net,validloader,device)"
   ]
  },
  {
   "cell_type": "code",
   "execution_count": 96,
   "id": "38f40b88",
   "metadata": {},
   "outputs": [],
   "source": [
    "# If model save have some error, then add \"Net,self\" in model.py __init__ function, and run the code below multiple times until we are done.\n",
    "\n",
    "# net2 = Net()\n",
    "# net2.load_state_dict(torch.load(model_path))\n",
    "# print(list(net2.parameters()))\n",
    "# torch.save(net2,model_path)"
   ]
  },
  {
   "cell_type": "code",
   "execution_count": 36,
   "id": "016783e9",
   "metadata": {},
   "outputs": [
    {
     "ename": "AssertionError",
     "evalue": "",
     "output_type": "error",
     "traceback": [
      "\u001b[0;31m---------------------------------------------------------------------------\u001b[0m",
      "\u001b[0;31mAssertionError\u001b[0m                            Traceback (most recent call last)",
      "Cell \u001b[0;32mIn[36], line 4\u001b[0m\n\u001b[1;32m      2\u001b[0m model_path \u001b[38;5;241m=\u001b[39m os\u001b[38;5;241m.\u001b[39mpath\u001b[38;5;241m.\u001b[39mjoin(model_dir,\u001b[38;5;124m'\u001b[39m\u001b[38;5;124mmodels\u001b[39m\u001b[38;5;124m'\u001b[39m, \u001b[38;5;124mf\u001b[39m\u001b[38;5;124m'\u001b[39m\u001b[38;5;124mcifar10_4x_best.pth\u001b[39m\u001b[38;5;124m'\u001b[39m)\n\u001b[1;32m      3\u001b[0m torch\u001b[38;5;241m.\u001b[39msave(net, model_path)\n\u001b[0;32m----> 4\u001b[0m \u001b[38;5;28;01massert\u001b[39;00m(\u001b[38;5;28;01mFalse\u001b[39;00m)\n\u001b[1;32m      5\u001b[0m \u001b[38;5;28;01mtry\u001b[39;00m:\n\u001b[1;32m      6\u001b[0m     torch\u001b[38;5;241m.\u001b[39msave(net, model_path)\n",
      "\u001b[0;31mAssertionError\u001b[0m: "
     ]
    }
   ],
   "source": [
    "# print(current_time)\n",
    "model_path = os.path.join(model_dir,'models', f'cifar10_4x_best.pth')\n",
    "torch.save(net, model_path)\n",
    "assert(False)\n",
    "try:\n",
    "    torch.save(net, model_path)\n",
    "except:\n",
    "    torch.save(net.state_dict(),model_path)\n",
    "    print('Saving has some errors')\n",
    "# torch.save(net, os.path.join(model_dir, f'cifar10_4x_{time.localtime()}.pth'))"
   ]
  },
  {
   "cell_type": "markdown",
   "id": "e793356d",
   "metadata": {
    "deletable": false,
    "editable": false,
    "nbgrader": {
     "cell_type": "markdown",
     "checksum": "885b0bf12e9c21f035c6df6199532ea9",
     "grade": false,
     "grade_id": "cell-a25d638df48b13bc",
     "locked": true,
     "schema_version": 3,
     "solution": false,
     "task": false
    }
   },
   "source": [
    "## Evaluation\n",
    "\n",
    "Before submission, please run the following cell to make sure your model can be correctly graded."
   ]
  },
  {
   "cell_type": "code",
   "execution_count": 37,
   "id": "6b631827",
   "metadata": {
    "deletable": false,
    "editable": false,
    "nbgrader": {
     "cell_type": "code",
     "checksum": "36e31059e96008e349a5ef3bccc487eb",
     "grade": false,
     "grade_id": "cell-3121e7d50ff7793b",
     "locked": true,
     "schema_version": 3,
     "solution": false,
     "task": false
    }
   },
   "outputs": [
    {
     "name": "stdout",
     "output_type": "stream",
     "text": [
      "number of trained parameters: 5071434\n",
      "number of total parameters: 5071434\n",
      "can't load test set because [Errno 2] No such file or directory: '/root/DL/cifar_10_4x/test', load valid set now\n",
      "Accuracy of the network on the valid images: 82 %\n"
     ]
    }
   ],
   "source": [
    "!python evaluation.py"
   ]
  },
  {
   "cell_type": "code",
   "execution_count": 38,
   "id": "258f97f3",
   "metadata": {},
   "outputs": [],
   "source": [
    "acc = 82\n",
    "import time\n",
    "current_time = time.strftime(\"%m%d%H%M\")\n",
    "os.rename(model_path,os.path.join(model_dir,'models', f'cifar10_4x_{current_time}_acc{acc}.pth'))\n",
    "model_src = ''\n",
    "\n",
    "with open('model.py','r') as f:\n",
    "    model_src=f.read()\n",
    "\n",
    "with open(os.path.join(model_dir,'models', f'cifar10_4x_{current_time}_acc{acc}.json'),'w') as f:\n",
    "    import json\n",
    "    json.dump({\n",
    "        'model_type':model_src,\n",
    "        'train_history':train_history,\n",
    "        'description':\"\"\"\n",
    "A brand new structure based on ResNet\n",
    "    \"\"\"\n",
    "    },f,indent=4)"
   ]
  },
  {
   "cell_type": "code",
   "execution_count": null,
   "id": "c3eb97f9",
   "metadata": {},
   "outputs": [],
   "source": []
  }
 ],
 "metadata": {
  "kernelspec": {
   "display_name": "Python 3 (ipykernel)",
   "language": "python",
   "name": "python3"
  },
  "language_info": {
   "codemirror_mode": {
    "name": "ipython",
    "version": 3
   },
   "file_extension": ".py",
   "mimetype": "text/x-python",
   "name": "python",
   "nbconvert_exporter": "python",
   "pygments_lexer": "ipython3",
   "version": "3.10.13"
  },
  "toc": {
   "base_numbering": 1,
   "nav_menu": {},
   "number_sections": false,
   "sideBar": true,
   "skip_h1_title": false,
   "title_cell": "Table of Contents",
   "title_sidebar": "Contents",
   "toc_cell": false,
   "toc_position": {},
   "toc_section_display": true,
   "toc_window_display": false
  }
 },
 "nbformat": 4,
 "nbformat_minor": 5
}
